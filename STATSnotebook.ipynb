{
 "cells": [
  {
   "cell_type": "markdown",
   "metadata": {},
   "source": [
    "Stats Analysis of TRI\n"
   ]
  },
  {
   "cell_type": "code",
   "execution_count": null,
   "metadata": {},
   "outputs": [],
   "source": [
    "# Filter the DataFrame for the \"Petroleum\" category\n",
    "petroleum_select_col = select_col[select_col['Industry Sector'] == 'Petroleum']\n",
    "\n",
    "# Find the index of the row with the highest \"Total Releases\" value in the \"Petroleum\" category\n",
    "max_release_index = petroleum_select_col['Total Releases'].idxmax()\n",
    "\n",
    "# Get the Facility name and Total Releases amount for the facility with the highest releases in the \"Petroleum\" category\n",
    "facility_name_with_highest_releases = petroleum_select_col.loc[max_release_index, 'Facility name']\n",
    "highest_total_releases = petroleum_select_col.loc[max_release_index, 'Total Releases']\n",
    "\n",
    "# Print the result\n",
    "print(f\"The facility with the highest Total Releases in the 'Petroleum' category is '{facility_name_with_highest_releases}' with a total release amount of {highest_total_releases} pounds.\")\n",
    "\n",
    "# Filter the DataFrame for facilities in the state of Texas (TX) within the \"Petroleum\" category\n",
    "tx_facilities_petroleum = petroleum_select_col[petroleum_select_col['State'] == 'TX']\n",
    "\n",
    "# Find the index of the row with the highest \"Total Releases\" value in Texas within the \"Petroleum\" category\n",
    "max_release_index_tx = tx_facilities_petroleum['Total Releases'].idxmax()\n",
    "\n",
    "# Get the Facility name and Total Releases amount for the facility with the highest releases in Texas within the \"Petroleum\" category\n",
    "facility_name_highest_releases_tx = tx_facilities_petroleum.loc[max_release_index_tx, 'Facility name']\n",
    "highest_total_releases_tx = tx_facilities_petroleum.loc[max_release_index_tx, 'Total Releases']\n",
    "\n",
    "# Print the result\n",
    "print(f\"The facility in Texas with the highest Total Releases in the 'Petroleum' category is '{facility_name_highest_releases_tx}' with a total release amount of {highest_total_releases_tx} pounds.\")\n",
    "\n",
    "# Find the difference in total releases between the highest overall and highest in Texas within the \"Petroleum\" category\n",
    "difference_in_releases = highest_total_releases - highest_total_releases_tx\n",
    "\n",
    "# Print the difference\n",
    "print(f\"The difference in total releases between the highest overall and highest in Texas in the 'Petroleum' category is {difference_in_releases} pounds.\")\n",
    "\n",
    "# Calculate the percentage difference\n",
    "percentage_difference = ((highest_total_releases - highest_total_releases_tx) / highest_total_releases_tx) * 100\n",
    "\n",
    "# Determine which value is higher\n",
    "higher_value = \"highest overall\" if highest_total_releases > highest_total_releases_tx else \"highest in Texas\"\n",
    "\n",
    "# Print the result\n",
    "print(f\"The {higher_value} facility in the 'Petroleum' category has {'higher' if highest_total_releases > highest_total_releases_tx else 'lower'} total releases.\")\n",
    "print(f\"The percentage difference between the two facilities in the 'Petroleum' category is {abs(percentage_difference):.2f}%.\")\n",
    "\n",
    "\n"
   ]
  },
  {
   "cell_type": "markdown",
   "metadata": {},
   "source": [
    "The facility with the highest Total Releases in the 'Petroleum' category is 'DELAWARE CITY REFINERY' with a total release amount of 4893579.0 pounds.\n",
    "The facility in Texas with the highest Total Releases in the 'Petroleum' category is 'VALERO REFINING - TEXAS L.P. HOUSTON REFINERY' with a total release amount of 2057066.0 pounds.\n",
    "The difference in total releases between the highest overall and highest in Texas in the 'Petroleum' category is 2836513.0 pounds.\n",
    "The highest overall facility in the 'Petroleum' category has higher total releases.\n",
    "The percentage difference between the two facilities in the 'Petroleum' category is 137.89%."
   ]
  },
  {
   "cell_type": "code",
   "execution_count": null,
   "metadata": {},
   "outputs": [],
   "source": [
    "# Filter the data for the \"Petroleum\" category\n",
    "petroleum_in_tx = select_col[(select_col['State'] == 'TX') & (select_col['Industry Sector'] == 'Petroleum')]\n",
    "\n",
    "# Group the filtered data by city and sum the \"Total Releases\" for each city\n",
    "city_total_releases = petroleum_in_tx.groupby('City')['Total Releases'].sum()\n",
    "\n",
    "# Find the city with the highest total releases in Texas for the \"Petroleum\" category\n",
    "city_with_highest_releases = city_total_releases.idxmax()\n",
    "highest_releases_in_city = city_total_releases.max()\n",
    "\n",
    "# Print the result\n",
    "print(f\"The city in Texas with the highest total releases in the 'Petroleum' category is '{city_with_highest_releases}' with a total release amount of {highest_releases_in_city} pounds.\")\n",
    "\n",
    "# Filter the data for the \"Petroleum\" category\n",
    "petroleum_total_releases = select_col[select_col['Industry Sector'] == 'Petroleum']\n",
    "\n",
    "# Group the filtered data by city and sum the \"Total Releases\" for each city\n",
    "city_total_releases_petroleum = petroleum_total_releases.groupby('City')['Total Releases'].sum()\n",
    "\n",
    "# Find the city with the highest total releases in the \"Petroleum\" category\n",
    "city_with_highest_releases_petroleum = city_total_releases_petroleum.idxmax()\n",
    "highest_releases_in_city_petroleum = city_total_releases_petroleum.max()\n",
    "\n",
    "# Print the result\n",
    "print(f\"The city with the highest total releases in the 'Petroleum' category (nationally) is '{city_with_highest_releases_petroleum}' with a total release amount of {highest_releases_in_city_petroleum} pounds.\")\n"
   ]
  },
  {
   "cell_type": "markdown",
   "metadata": {},
   "source": [
    "The city in Texas with the highest total releases in the 'Petroleum' category is 'TEXAS CITY' with a total release amount of 6133697.7 pounds.\n",
    "The city with the highest total releases in the 'Petroleum' category (nationally) is 'TEXAS CITY' with a total release amount of 6133697.7 pounds"
   ]
  },
  {
   "cell_type": "code",
   "execution_count": null,
   "metadata": {},
   "outputs": [],
   "source": [
    "# Filter the DataFrame for the \"Petroleum\" category\n",
    "petroleum_select_col = select_col[select_col['Industry Sector'] == 'Petroleum']\n",
    "\n",
    "# Find the top 5 highest-emitting facilities for petroleum nationally\n",
    "top_5_nationally = petroleum_select_col.nlargest(5, 'Total Releases')\n",
    "\n",
    "# Find the top 5 emitting facilities for petroleum in Texas\n",
    "tx_facilities_petroleum = petroleum_select_col[petroleum_select_col['State'] == 'TX']\n",
    "top_5_in_tx = tx_facilities_petroleum.nlargest(5, 'Total Releases')\n",
    "\n",
    "# Print the top 5 nationally\n",
    "print(\"Top 5 highest-emitting facilities for petroleum nationally:\")\n",
    "print(top_5_nationally[['Facility name', 'Total Releases']])\n",
    "\n",
    "# Print the top 5 in Texas\n",
    "print(\"\\nTop 5 emitting facilities for petroleum in Texas:\")\n",
    "print(top_5_in_tx[['Facility name', 'Total Releases']])\n"
   ]
  },
  {
   "cell_type": "markdown",
   "metadata": {},
   "source": [
    "Top 5 highest-emitting facilities for petroleum nationally:\n",
    "                        Facility name  Total Releases\n",
    "18761          DELAWARE CITY REFINERY       4893579.0\n",
    "72020       SAFETY-KLEEN SYSTEMS INC.       3937728.0\n",
    "55476              USS-CLAIRTON PLANT       3624255.0\n",
    "16718  PHILLIPS 66 CO-BAYWAY REFINERY       3375200.0\n",
    "658               WOOD RIVER REFINERY       2634292.0\n",
    "\n",
    "Top 5 emitting facilities for petroleum in Texas:\n",
    "                                       Facility name  Total Releases\n",
    "48565  VALERO REFINING - TEXAS L.P. HOUSTON REFINERY       2057066.0\n",
    "65997                      BLANCHARD REFINING CO LLC       1757100.0\n",
    "53394                      BLANCHARD REFINING CO LLC       1526700.0\n",
    "38170         PHILLIPS 66 CO SWEENY REFINERY COMPLEX       1387540.0\n",
    "23596                       VALERO REFINING-TEXAS LP       1100000.0"
   ]
  },
  {
   "cell_type": "code",
   "execution_count": null,
   "metadata": {},
   "outputs": [],
   "source": [
    "# Filter the DataFrame for the \"Petroleum\" category\n",
    "petroleum_select_col = select_col[select_col['Industry Sector'] == 'Petroleum']\n",
    "\n",
    "# Find the top 5 cities with the highest petroleum emissions nationally\n",
    "top_cities_nationally = petroleum_select_col.groupby('City')['Total Releases'].sum().nlargest(5)\n",
    "\n",
    "# Find the top 5 cities with the highest petroleum emissions in Texas\n",
    "tx_facilities_petroleum = petroleum_select_col[petroleum_select_col['State'] == 'TX']\n",
    "top_cities_in_tx = tx_facilities_petroleum.groupby('City')['Total Releases'].sum().nlargest(5)\n",
    "\n",
    "# Print the top 5 cities nationally\n",
    "print(\"Top 5 cities with the highest petroleum emissions nationally:\")\n",
    "print(top_cities_nationally)\n",
    "\n",
    "# Print the top 5 cities in Texas\n",
    "print(\"\\nTop 5 cities with the highest petroleum emissions in Texas:\")\n",
    "print(top_cities_in_tx)\n"
   ]
  },
  {
   "cell_type": "markdown",
   "metadata": {},
   "source": [
    "Top 5 cities with the highest petroleum emissions nationally:\n",
    "City\n",
    "TEXAS CITY        6133697.70\n",
    "DELAWARE CITY     5241520.09\n",
    "CLAIRTON          4728674.55\n",
    "FALLON            4133824.82\n",
    "CORPUS CHRISTI    3965892.33\n",
    "Name: Total Releases, dtype: float64\n",
    "\n",
    "Top 5 cities with the highest petroleum emissions in Texas:\n",
    "City\n",
    "TEXAS CITY        6133697.70\n",
    "CORPUS CHRISTI    3965892.33\n",
    "HOUSTON           2560571.26\n",
    "BAYTOWN           2151864.40\n",
    "OLD OCEAN         1687491.60\n",
    "Name: Total Releases, dtype: float64"
   ]
  }
 ],
 "metadata": {
  "kernelspec": {
   "display_name": "Python 3",
   "language": "python",
   "name": "python3"
  },
  "language_info": {
   "name": "python",
   "version": "3.12.1"
  }
 },
 "nbformat": 4,
 "nbformat_minor": 2
}
